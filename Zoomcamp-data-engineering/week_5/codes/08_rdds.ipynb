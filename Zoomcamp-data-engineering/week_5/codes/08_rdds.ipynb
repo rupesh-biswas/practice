{
 "cells": [
  {
   "cell_type": "code",
   "execution_count": 1,
   "id": "0a7ee542-fe71-4b55-ab81-0266fae97bfb",
   "metadata": {},
   "outputs": [
    {
     "name": "stderr",
     "output_type": "stream",
     "text": [
      "25/03/08 11:39:05 WARN Utils: Your hostname, SRCIND-21BQ9G3 resolves to a loopback address: 127.0.1.1; using 172.26.144.30 instead (on interface eth0)\n",
      "25/03/08 11:39:05 WARN Utils: Set SPARK_LOCAL_IP if you need to bind to another address\n",
      "Setting default log level to \"WARN\".\n",
      "To adjust logging level use sc.setLogLevel(newLevel). For SparkR, use setLogLevel(newLevel).\n",
      "25/03/08 11:39:06 WARN NativeCodeLoader: Unable to load native-hadoop library for your platform... using builtin-java classes where applicable\n"
     ]
    }
   ],
   "source": [
    "import pyspark\n",
    "from pyspark.sql import SparkSession\n",
    "\n",
    "spark = SparkSession.builder \\\n",
    "            .master(\"local[*]\") \\\n",
    "            .appName(\"test\") \\\n",
    "            .getOrCreate()"
   ]
  },
  {
   "cell_type": "code",
   "execution_count": 2,
   "id": "acc17f0d-c0aa-4c10-9b79-07081c6885b8",
   "metadata": {},
   "outputs": [
    {
     "name": "stderr",
     "output_type": "stream",
     "text": [
      "                                                                                "
     ]
    }
   ],
   "source": [
    "df_green = spark.read.parquet(\"data/pq/green/*/*\")"
   ]
  },
  {
   "cell_type": "markdown",
   "id": "f278cb09-d745-4ca8-a8a1-2ec2c2acf406",
   "metadata": {},
   "source": [
    "## to implement"
   ]
  },
  {
   "cell_type": "markdown",
   "id": "e8b5d8e6-f3b8-4c5e-bcbe-f5c6c38f4f2c",
   "metadata": {},
   "source": [
    "```sql\n",
    "SELECT \n",
    "    date_trunc('hour', lpep_pickup_datetime) as hour, \n",
    "    PULocationID as zone,\n",
    "\n",
    "    sum(total_amount) as revenue_monthly_total_amount,\n",
    "    COUNT(1) as number_of_records\n",
    "    FROM \n",
    "        green\n",
    "    WHERE\n",
    "        lpep_pickup_datetime > '2020-01-01 00:00:00'\n",
    "    GROUP BY \n",
    "        1,2\n",
    "```"
   ]
  },
  {
   "cell_type": "code",
   "execution_count": 6,
   "id": "3e96414f-bf1a-431b-96a6-c0fef2603648",
   "metadata": {},
   "outputs": [],
   "source": [
    "rdd = df_green \\\n",
    "        .select('lpep_pickup_datetime', 'PULocationID', 'total_amount') \\\n",
    "        .rdd"
   ]
  },
  {
   "cell_type": "code",
   "execution_count": 8,
   "id": "f6169f4d-967c-4d16-81c7-f3596ee59ebf",
   "metadata": {},
   "outputs": [],
   "source": [
    "from datetime import datetime"
   ]
  },
  {
   "cell_type": "code",
   "execution_count": 12,
   "id": "32b5d73e-14a7-48e6-9da0-b43f6e93d154",
   "metadata": {},
   "outputs": [],
   "source": [
    "start = datetime(year=2020, month=1, day=1)\n",
    "\n",
    "def filter_outliers(row):\n",
    "    return row.lpep_pickup_datetime > start"
   ]
  },
  {
   "cell_type": "code",
   "execution_count": 14,
   "id": "4a13ccbd-1a42-4acd-b803-632fafb19974",
   "metadata": {},
   "outputs": [
    {
     "data": {
      "text/plain": [
       "Row(lpep_pickup_datetime=datetime.datetime(2020, 1, 23, 13, 10, 15), PULocationID=74, total_amount=44.97)"
      ]
     },
     "execution_count": 14,
     "metadata": {},
     "output_type": "execute_result"
    }
   ],
   "source": [
    "rows = rdd.take(5)\n",
    "row = rows[0]\n",
    "row"
   ]
  },
  {
   "cell_type": "code",
   "execution_count": 18,
   "id": "8e9f4823-f5ca-4118-b9e5-7104ccc68baf",
   "metadata": {},
   "outputs": [
    {
     "data": {
      "text/plain": [
       "datetime.datetime(2020, 1, 23, 13, 0)"
      ]
     },
     "execution_count": 18,
     "metadata": {},
     "output_type": "execute_result"
    }
   ],
   "source": []
  },
  {
   "cell_type": "code",
   "execution_count": 22,
   "id": "47e3c4b2-4fee-4ed1-8215-799ec7175a38",
   "metadata": {},
   "outputs": [],
   "source": [
    "def prepare_for_grouping(row):\n",
    "    hour = row.lpep_pickup_datetime.replace(minute=0, second=0, microsecond=0)\n",
    "    zone = row.PULocationID\n",
    "    key = (hour, zone)\n",
    "\n",
    "    amount = row.total_amount\n",
    "    count = 1\n",
    "    value = (amount, count)\n",
    "\n",
    "    return (key, value)"
   ]
  },
  {
   "cell_type": "code",
   "execution_count": 25,
   "id": "cb0da327-8bb1-4aa7-a46c-4848cbebdd7e",
   "metadata": {},
   "outputs": [],
   "source": [
    "def reduce(left_value, right_value):\n",
    "    left_amount, left_count = left_value\n",
    "    right_amount, right_count = right_value\n",
    "\n",
    "    output_amount = left_amount + right_amount\n",
    "    output_count = left_count + right_count\n",
    "    \n",
    "    return (output_amount, output_count)"
   ]
  },
  {
   "cell_type": "code",
   "execution_count": 32,
   "id": "69644440-12b1-41b1-931b-8eda1366d514",
   "metadata": {},
   "outputs": [],
   "source": [
    "from collections import namedtuple"
   ]
  },
  {
   "cell_type": "code",
   "execution_count": 33,
   "id": "4e759c22-3a50-4158-a26c-6cb3ec16d66b",
   "metadata": {},
   "outputs": [],
   "source": [
    "RevenueRow = namedtuple('RevenueRow', ['hour', 'zone', 'revenue', 'count'])"
   ]
  },
  {
   "cell_type": "code",
   "execution_count": 34,
   "id": "b0a05381-f1f1-4ee2-94e8-f24923f1b28f",
   "metadata": {},
   "outputs": [],
   "source": [
    "def unwrap(row):\n",
    "    return RevenueRow(\n",
    "        hour = row[0][0], \n",
    "        zone = row[0][1], \n",
    "        revenue = row[1][0], \n",
    "        count = row[1][1]\n",
    "    )"
   ]
  },
  {
   "cell_type": "code",
   "execution_count": 38,
   "id": "7a91ae70-80bd-468d-8a39-dbb39d0bd2aa",
   "metadata": {},
   "outputs": [],
   "source": [
    "from pyspark.sql import types"
   ]
  },
  {
   "cell_type": "code",
   "execution_count": 41,
   "id": "9945893f-a1d8-4cce-9f79-330413189338",
   "metadata": {},
   "outputs": [],
   "source": [
    "result_schema = types.StructType([\n",
    "    types.StructField('hour', types.TimestampType(), True), \n",
    "    types.StructField('zone', types.IntegerType(), True), \n",
    "    types.StructField('revenue', types.DoubleType(), True), \n",
    "    types.StructField('count', types.IntegerType(), True)\n",
    "])"
   ]
  },
  {
   "cell_type": "code",
   "execution_count": 42,
   "id": "8b467f06-5efb-49c7-8fc6-5b952aff3736",
   "metadata": {},
   "outputs": [],
   "source": [
    "df_result = rdd \\\n",
    "    .filter(filter_outliers) \\\n",
    "    .map(prepare_for_grouping) \\\n",
    "    .reduceByKey(reduce) \\\n",
    "    .map(unwrap) \\\n",
    "    .toDF(result_schema)"
   ]
  },
  {
   "cell_type": "code",
   "execution_count": 43,
   "id": "851ea20a-2642-407d-bd15-bd395f48d4ec",
   "metadata": {},
   "outputs": [
    {
     "data": {
      "text/plain": [
       "StructType([StructField('hour', TimestampType(), True), StructField('zone', IntegerType(), True), StructField('revenue', DoubleType(), True), StructField('count', IntegerType(), True)])"
      ]
     },
     "execution_count": 43,
     "metadata": {},
     "output_type": "execute_result"
    }
   ],
   "source": [
    "df_result.schema"
   ]
  },
  {
   "cell_type": "code",
   "execution_count": 46,
   "id": "d301f0ea-3394-4d85-8348-20c0740156db",
   "metadata": {},
   "outputs": [
    {
     "name": "stderr",
     "output_type": "stream",
     "text": [
      "25/03/08 12:30:51 WARN MemoryManager: Total allocation exceeds 95.00% (1,020,054,720 bytes) of heap memory\n",
      "Scaling row group sizes to 95.00% for 8 writers\n",
      "                                                                                "
     ]
    }
   ],
   "source": [
    "df_result.write.parquet(\"tmp/green-revenue\")"
   ]
  },
  {
   "cell_type": "code",
   "execution_count": null,
   "id": "f1e758b5-6f89-4257-9d7e-7b07cb6f74c2",
   "metadata": {},
   "outputs": [],
   "source": []
  },
  {
   "cell_type": "code",
   "execution_count": 51,
   "id": "aa6dfa04-6e71-4561-aed1-54a1b9a72642",
   "metadata": {},
   "outputs": [],
   "source": [
    "columns = ['VendorID', 'lpep_pickup_datetime', 'PULocationID', 'DOLocationID', 'trip_distance']\n",
    "\n",
    "duration_rdd = df_green \\\n",
    "    .select(columns) \\\n",
    "    .rdd"
   ]
  },
  {
   "cell_type": "code",
   "execution_count": 58,
   "id": "90a9c03b-57fd-49d8-9a87-50d5bc2fab98",
   "metadata": {},
   "outputs": [],
   "source": [
    "def apply_mode_in_batch(partition):\n",
    "    count = 0\n",
    "\n",
    "    for _ in partition:\n",
    "        count = count + 1\n",
    "    return [count]"
   ]
  },
  {
   "cell_type": "code",
   "execution_count": 59,
   "id": "db08f289-20bf-4298-9ceb-0e11601b45c9",
   "metadata": {},
   "outputs": [
    {
     "name": "stderr",
     "output_type": "stream",
     "text": [
      "                                                                                "
     ]
    },
    {
     "data": {
      "text/plain": [
       "[746744, 418184, 219219, 215981, 232942, 214666, 178149, 78632]"
      ]
     },
     "execution_count": 59,
     "metadata": {},
     "output_type": "execute_result"
    }
   ],
   "source": [
    "duration_rdd.mapPartitions(apply_mode_in_batch).collect()"
   ]
  },
  {
   "cell_type": "code",
   "execution_count": 60,
   "id": "66ff7c12-0a2b-4abc-b61b-9ea7beaaf790",
   "metadata": {},
   "outputs": [],
   "source": [
    "import pandas as pd"
   ]
  },
  {
   "cell_type": "code",
   "execution_count": 61,
   "id": "3213f30f-bd7c-45b2-b6c9-3055955498f3",
   "metadata": {},
   "outputs": [],
   "source": [
    "rows = duration_rdd.take(100)"
   ]
  },
  {
   "cell_type": "code",
   "execution_count": 65,
   "id": "377e20e3-ccd1-422b-a0db-f486cc84c535",
   "metadata": {},
   "outputs": [],
   "source": [
    "# pd.DataFrame(rows, columns = columns)"
   ]
  },
  {
   "cell_type": "code",
   "execution_count": 63,
   "id": "73ca4ca7-5ac3-4122-a235-85c0198faacb",
   "metadata": {},
   "outputs": [],
   "source": [
    "def apply_mode_in_batch(partition):\n",
    "    df = pd.DataFrame(partition, columns = columns)\n",
    "    count = len(df)\n",
    "    return [count]"
   ]
  },
  {
   "cell_type": "code",
   "execution_count": 64,
   "id": "0cb2bf5b-d85b-4a07-a5bd-5cd371ed0ede",
   "metadata": {},
   "outputs": [
    {
     "name": "stderr",
     "output_type": "stream",
     "text": [
      "                                                                                "
     ]
    },
    {
     "data": {
      "text/plain": [
       "[746744, 418184, 219219, 215981, 232942, 214666, 178149, 78632]"
      ]
     },
     "execution_count": 64,
     "metadata": {},
     "output_type": "execute_result"
    }
   ],
   "source": [
    "duration_rdd.mapPartitions(apply_mode_in_batch).collect()"
   ]
  },
  {
   "cell_type": "code",
   "execution_count": null,
   "id": "3426fcc5-1d4b-42df-a0d6-99a530d53633",
   "metadata": {},
   "outputs": [],
   "source": []
  },
  {
   "cell_type": "code",
   "execution_count": 66,
   "id": "98b0b64b-0408-4e4f-84de-29b8d73e80c8",
   "metadata": {},
   "outputs": [],
   "source": [
    "def model_predict(df):\n",
    "    y_pred = df.trip_distance * 5\n",
    "    return y_pred\n"
   ]
  },
  {
   "cell_type": "code",
   "execution_count": 72,
   "id": "1998a2e3-429e-4572-a986-b9e6234f1175",
   "metadata": {},
   "outputs": [],
   "source": [
    "def apply_mode_in_batch(partition):\n",
    "    df = pd.DataFrame(partition, columns = columns)\n",
    "    df['lpep_pickup_datetime'] = df['lpep_pickup_datetime'].astype(str) # Spark does not recognise the Pandas Timestamp, converting it to string will solve the empty issues\n",
    "    predictons = model_predict(df)\n",
    "    df['predicted_duration'] =  predictons\n",
    "\n",
    "    for row in df.itertuples():\n",
    "        yield row"
   ]
  },
  {
   "cell_type": "code",
   "execution_count": 73,
   "id": "5554b5c6-2abc-43e4-8c4d-35f96d291d07",
   "metadata": {},
   "outputs": [
    {
     "name": "stderr",
     "output_type": "stream",
     "text": [
      "                                                                                "
     ]
    }
   ],
   "source": [
    "df_predicts = duration_rdd \\\n",
    "                .mapPartitions(apply_mode_in_batch) \\\n",
    "                .toDF() \\\n",
    "                .drop('Index')"
   ]
  },
  {
   "cell_type": "code",
   "execution_count": 74,
   "id": "4b7f0f4a-ab46-475a-80b2-8747c4a423e5",
   "metadata": {},
   "outputs": [
    {
     "name": "stderr",
     "output_type": "stream",
     "text": [
      "[Stage 31:>                                                         (0 + 1) / 1]"
     ]
    },
    {
     "name": "stdout",
     "output_type": "stream",
     "text": [
      "+--------+--------------------+------------+------------+-------------+------------------+\n",
      "|VendorID|lpep_pickup_datetime|PULocationID|DOLocationID|trip_distance|predicted_duration|\n",
      "+--------+--------------------+------------+------------+-------------+------------------+\n",
      "|     2.0| 2020-01-23 13:10:15|          74|         130|        12.77|63.849999999999994|\n",
      "|     NaN| 2020-01-20 15:09:00|          67|          39|          8.0|              40.0|\n",
      "|     2.0| 2020-01-15 20:23:41|         260|         157|         1.27|              6.35|\n",
      "|     2.0| 2020-01-05 16:32:26|          82|          83|         1.25|              6.25|\n",
      "|     2.0| 2020-01-29 19:22:42|         166|          42|         1.84| 9.200000000000001|\n",
      "|     2.0| 2020-01-15 11:07:42|         179|         223|         0.76|               3.8|\n",
      "|     2.0| 2020-01-16 08:22:29|          41|         237|         3.32|16.599999999999998|\n",
      "|     2.0| 2020-01-28 17:05:28|          75|         161|         2.21|             11.05|\n",
      "|     1.0| 2020-01-22 14:51:37|         152|         166|          0.9|               4.5|\n",
      "|     2.0| 2020-01-31 10:25:04|          75|         234|          6.1|              30.5|\n",
      "|     2.0| 2020-01-20 15:50:54|          75|          41|         1.74|               8.7|\n",
      "|     2.0| 2020-01-31 11:35:17|         260|         226|         1.18|5.8999999999999995|\n",
      "|     1.0| 2020-01-04 20:44:28|         129|         129|          2.2|              11.0|\n",
      "|     2.0| 2020-01-17 21:47:52|          74|         126|         3.04|              15.2|\n",
      "|     2.0| 2020-01-21 23:13:47|          61|          61|         0.85|              4.25|\n",
      "|     2.0| 2020-01-02 08:11:21|          66|         164|         5.06|25.299999999999997|\n",
      "|     2.0| 2020-01-27 02:59:20|           7|         179|         1.57|7.8500000000000005|\n",
      "|     2.0| 2020-01-16 14:39:13|          74|         243|          6.8|              34.0|\n",
      "|     2.0| 2020-01-16 18:42:24|          66|          97|         1.06| 5.300000000000001|\n",
      "|     2.0| 2020-01-03 09:24:54|          61|         225|         1.23|              6.15|\n",
      "+--------+--------------------+------------+------------+-------------+------------------+\n",
      "only showing top 20 rows\n",
      "\n"
     ]
    },
    {
     "name": "stderr",
     "output_type": "stream",
     "text": [
      "                                                                                "
     ]
    }
   ],
   "source": [
    "df_predicts.show()"
   ]
  },
  {
   "cell_type": "code",
   "execution_count": null,
   "id": "31064280-269a-49b9-b578-24f4741c0ee9",
   "metadata": {},
   "outputs": [],
   "source": []
  },
  {
   "cell_type": "code",
   "execution_count": null,
   "id": "fc85fb82-9387-4978-a704-35b058e5de4e",
   "metadata": {},
   "outputs": [],
   "source": []
  },
  {
   "cell_type": "code",
   "execution_count": null,
   "id": "2d951f56-562e-46a2-ae36-cf77ea59f31e",
   "metadata": {},
   "outputs": [],
   "source": []
  },
  {
   "cell_type": "code",
   "execution_count": null,
   "id": "74d2c66a-7d03-401a-a121-47e3e15065b9",
   "metadata": {},
   "outputs": [],
   "source": []
  },
  {
   "cell_type": "code",
   "execution_count": null,
   "id": "bcfb5c0c-7e4b-47ad-8239-e5014b789425",
   "metadata": {},
   "outputs": [],
   "source": []
  },
  {
   "cell_type": "code",
   "execution_count": null,
   "id": "a5793527-f917-45a3-a3bf-96c7b5a442d0",
   "metadata": {},
   "outputs": [],
   "source": []
  },
  {
   "cell_type": "code",
   "execution_count": null,
   "id": "3df9e716-d43f-427f-a569-eb6ae907c5d8",
   "metadata": {},
   "outputs": [],
   "source": []
  },
  {
   "cell_type": "code",
   "execution_count": null,
   "id": "2bdbab7e-9599-4bef-a304-c025017baf1e",
   "metadata": {},
   "outputs": [],
   "source": []
  }
 ],
 "metadata": {
  "kernelspec": {
   "display_name": "Python 3 (ipykernel)",
   "language": "python",
   "name": "python3"
  },
  "language_info": {
   "codemirror_mode": {
    "name": "ipython",
    "version": 3
   },
   "file_extension": ".py",
   "mimetype": "text/x-python",
   "name": "python",
   "nbconvert_exporter": "python",
   "pygments_lexer": "ipython3",
   "version": "3.12.3"
  }
 },
 "nbformat": 4,
 "nbformat_minor": 5
}
