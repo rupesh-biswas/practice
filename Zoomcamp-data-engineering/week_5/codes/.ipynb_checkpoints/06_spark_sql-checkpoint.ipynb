{
 "cells": [
  {
   "cell_type": "code",
   "execution_count": 1,
   "id": "221a5a42-6ab6-4212-9f43-5d7c8706fa57",
   "metadata": {},
   "outputs": [],
   "source": [
    "import pyspark\n",
    "from pyspark.sql import SparkSession"
   ]
  },
  {
   "cell_type": "code",
   "execution_count": 2,
   "id": "09e26f70-fc49-45fc-aa07-d6741da84008",
   "metadata": {},
   "outputs": [
    {
     "name": "stderr",
     "output_type": "stream",
     "text": [
      "25/03/07 15:00:55 WARN Utils: Your hostname, SRCIND-21BQ9G3 resolves to a loopback address: 127.0.1.1; using 172.26.144.30 instead (on interface eth0)\n",
      "25/03/07 15:00:55 WARN Utils: Set SPARK_LOCAL_IP if you need to bind to another address\n",
      "Setting default log level to \"WARN\".\n",
      "To adjust logging level use sc.setLogLevel(newLevel). For SparkR, use setLogLevel(newLevel).\n",
      "25/03/07 15:00:55 WARN NativeCodeLoader: Unable to load native-hadoop library for your platform... using builtin-java classes where applicable\n"
     ]
    }
   ],
   "source": [
    "spark = SparkSession.builder \\\n",
    "            .master(\"local[*]\") \\\n",
    "            .appName(\"test\") \\\n",
    "            .getOrCreate()"
   ]
  },
  {
   "cell_type": "code",
   "execution_count": 3,
   "id": "0e577a50-fee5-4e0d-9bb1-f4d91619ece4",
   "metadata": {},
   "outputs": [
    {
     "name": "stderr",
     "output_type": "stream",
     "text": [
      "                                                                                "
     ]
    }
   ],
   "source": [
    "df_green = spark.read.parquet(\"data/pq/green/*/*\")"
   ]
  },
  {
   "cell_type": "code",
   "execution_count": 6,
   "id": "8796de44-17e1-4661-8e02-e18da9165064",
   "metadata": {},
   "outputs": [],
   "source": [
    "df_yellow = spark.read.parquet(\"data/pq/yellow/*/*\")"
   ]
  },
  {
   "cell_type": "code",
   "execution_count": 15,
   "id": "56c408e7-b4d4-40d7-bf35-ce5d6d304aa3",
   "metadata": {},
   "outputs": [
    {
     "name": "stdout",
     "output_type": "stream",
     "text": [
      "root\n",
      " |-- VendorID: long (nullable = true)\n",
      " |-- pickup_datetime: timestamp (nullable = true)\n",
      " |-- dropoff_datetime: timestamp (nullable = true)\n",
      " |-- passenger_count: integer (nullable = true)\n",
      " |-- trip_distance: double (nullable = true)\n",
      " |-- RatecodeID: integer (nullable = true)\n",
      " |-- store_and_fwd_flag: string (nullable = true)\n",
      " |-- PULocationID: integer (nullable = true)\n",
      " |-- DOLocationID: integer (nullable = true)\n",
      " |-- payment_type: integer (nullable = true)\n",
      " |-- fare_amount: double (nullable = true)\n",
      " |-- extra: double (nullable = true)\n",
      " |-- mta_tax: double (nullable = true)\n",
      " |-- tip_amount: double (nullable = true)\n",
      " |-- tolls_amount: double (nullable = true)\n",
      " |-- improvement_surcharge: double (nullable = true)\n",
      " |-- total_amount: double (nullable = true)\n",
      " |-- congestion_surcharge: double (nullable = true)\n",
      "\n"
     ]
    }
   ],
   "source": [
    "df_yellow.printSchema()"
   ]
  },
  {
   "cell_type": "code",
   "execution_count": 13,
   "id": "ce5f546c-5d63-4cf7-9aee-b98bfbb9cda3",
   "metadata": {},
   "outputs": [
    {
     "name": "stdout",
     "output_type": "stream",
     "text": [
      "root\n",
      " |-- VendorID: long (nullable = true)\n",
      " |-- pickup_datetime: timestamp (nullable = true)\n",
      " |-- dropoff_datetime: timestamp (nullable = true)\n",
      " |-- store_and_fwd_flag: string (nullable = true)\n",
      " |-- RatecodeID: integer (nullable = true)\n",
      " |-- PULocationID: integer (nullable = true)\n",
      " |-- DOLocationID: integer (nullable = true)\n",
      " |-- passenger_count: integer (nullable = true)\n",
      " |-- trip_distance: double (nullable = true)\n",
      " |-- fare_amount: double (nullable = true)\n",
      " |-- extra: double (nullable = true)\n",
      " |-- mta_tax: double (nullable = true)\n",
      " |-- tip_amount: double (nullable = true)\n",
      " |-- tolls_amount: double (nullable = true)\n",
      " |-- ehail_fee: double (nullable = true)\n",
      " |-- improvement_surcharge: double (nullable = true)\n",
      " |-- total_amount: double (nullable = true)\n",
      " |-- payment_type: integer (nullable = true)\n",
      " |-- trip_type: integer (nullable = true)\n",
      " |-- congestion_surcharge: double (nullable = true)\n",
      "\n"
     ]
    }
   ],
   "source": [
    "df_green.printSchema()"
   ]
  },
  {
   "cell_type": "code",
   "execution_count": 12,
   "id": "960d1f2f-f34b-4a1c-b721-f7d0cd1c5510",
   "metadata": {},
   "outputs": [],
   "source": [
    "df_green = df_green \\\n",
    "    .withColumnRenamed('lpep_pickup_datetime', 'pickup_datetime') \\\n",
    "    .withColumnRenamed('lpep_dropoff_datetime', 'dropoff_datetime') "
   ]
  },
  {
   "cell_type": "code",
   "execution_count": 14,
   "id": "cbe9af03-3ef2-4e40-8529-3ed3627b4443",
   "metadata": {},
   "outputs": [],
   "source": [
    "df_yellow = df_yellow \\\n",
    "    .withColumnRenamed('tpep_pickup_datetime', 'pickup_datetime') \\\n",
    "    .withColumnRenamed('tpep_dropoff_datetime', 'dropoff_datetime') "
   ]
  },
  {
   "cell_type": "code",
   "execution_count": 17,
   "id": "98eba610-d323-4f8a-8355-2b1e28c74a8b",
   "metadata": {},
   "outputs": [
    {
     "data": {
      "text/plain": [
       "['VendorID',\n",
       " 'pickup_datetime',\n",
       " 'dropoff_datetime',\n",
       " 'store_and_fwd_flag',\n",
       " 'RatecodeID',\n",
       " 'PULocationID',\n",
       " 'DOLocationID',\n",
       " 'passenger_count',\n",
       " 'trip_distance',\n",
       " 'fare_amount',\n",
       " 'extra',\n",
       " 'mta_tax',\n",
       " 'tip_amount',\n",
       " 'tolls_amount',\n",
       " 'improvement_surcharge',\n",
       " 'total_amount',\n",
       " 'payment_type',\n",
       " 'congestion_surcharge']"
      ]
     },
     "execution_count": 17,
     "metadata": {},
     "output_type": "execute_result"
    }
   ],
   "source": [
    "common_columns = []\n",
    "\n",
    "yellow_columns = set(df_yellow.columns)\n",
    "\n",
    "for col in df_green.columns:\n",
    "    if col in yellow_columns:\n",
    "        common_columns.append(col)\n",
    "common_columns"
   ]
  },
  {
   "cell_type": "code",
   "execution_count": 18,
   "id": "537f2d4f-1d19-4ba8-a542-079a2233ce5d",
   "metadata": {},
   "outputs": [],
   "source": [
    "from pyspark.sql import functions as F"
   ]
  },
  {
   "cell_type": "code",
   "execution_count": 21,
   "id": "3e6c199f-3dbf-41a0-a82a-f13bcd57d7f8",
   "metadata": {},
   "outputs": [],
   "source": [
    "df_green_sel = df_green \\\n",
    "    .select(common_columns) \\\n",
    "    .withColumn('service_type', F.lit('green'))"
   ]
  },
  {
   "cell_type": "code",
   "execution_count": 22,
   "id": "bb632b5a-b917-41cd-a031-44f1b081ead4",
   "metadata": {},
   "outputs": [],
   "source": [
    "df_yellow_sel = df_yellow \\\n",
    "    .select(common_columns) \\\n",
    "    .withColumn('service_type', F.lit('yellow'))"
   ]
  },
  {
   "cell_type": "code",
   "execution_count": 23,
   "id": "6411e64c-6c86-4754-8e79-e3943b9fa917",
   "metadata": {},
   "outputs": [],
   "source": [
    "df_trips_data = df_green_sel.unionAll(df_yellow_sel)"
   ]
  },
  {
   "cell_type": "code",
   "execution_count": 26,
   "id": "864619a5-a32b-4adf-b51a-40a3d6d378f9",
   "metadata": {},
   "outputs": [
    {
     "name": "stderr",
     "output_type": "stream",
     "text": [
      "[Stage 3:================================================>        (17 + 3) / 20]"
     ]
    },
    {
     "name": "stdout",
     "output_type": "stream",
     "text": [
      "+------------+--------+\n",
      "|service_type|   count|\n",
      "+------------+--------+\n",
      "|       green| 2304517|\n",
      "|      yellow|39649199|\n",
      "+------------+--------+\n",
      "\n"
     ]
    },
    {
     "name": "stderr",
     "output_type": "stream",
     "text": [
      "                                                                                "
     ]
    }
   ],
   "source": [
    "df_trips_data \\\n",
    "    .groupBy(df_trips_data.service_type) \\\n",
    "    .count() \\\n",
    "    .show()"
   ]
  },
  {
   "cell_type": "code",
   "execution_count": 27,
   "id": "f930a03f-b29f-4739-8194-74e29e56af53",
   "metadata": {},
   "outputs": [
    {
     "name": "stderr",
     "output_type": "stream",
     "text": [
      "/root/spark/spark-3.5.5-bin-hadoop3/python/pyspark/sql/dataframe.py:329: FutureWarning: Deprecated in 2.0, use createOrReplaceTempView instead.\n",
      "  warnings.warn(\"Deprecated in 2.0, use createOrReplaceTempView instead.\", FutureWarning)\n"
     ]
    }
   ],
   "source": [
    "df_trips_data.registerTempTable('trips_data')"
   ]
  },
  {
   "cell_type": "code",
   "execution_count": 29,
   "id": "17868fbe-a600-4796-a79b-b75cba34d4c9",
   "metadata": {},
   "outputs": [
    {
     "name": "stderr",
     "output_type": "stream",
     "text": [
      "[Stage 6:================================================>        (17 + 3) / 20]"
     ]
    },
    {
     "name": "stdout",
     "output_type": "stream",
     "text": [
      "+------------+--------+\n",
      "|service_type|count(1)|\n",
      "+------------+--------+\n",
      "|       green| 2304517|\n",
      "|      yellow|39649199|\n",
      "+------------+--------+\n",
      "\n"
     ]
    },
    {
     "name": "stderr",
     "output_type": "stream",
     "text": [
      "                                                                                "
     ]
    }
   ],
   "source": [
    "spark.sql(\"\"\"\n",
    "    SELECT\n",
    "        service_type,\n",
    "        COUNT(*)\n",
    "    FROM \n",
    "        trips_data\n",
    "    GROUP BY\n",
    "        service_type\n",
    "\"\"\").show()"
   ]
  },
  {
   "cell_type": "code",
   "execution_count": 35,
   "id": "b052f9fd-ccb2-4777-a72e-dba1a38f4dc0",
   "metadata": {},
   "outputs": [],
   "source": [
    "df_result = spark.sql(\"\"\"\n",
    "SELECT \n",
    "    -- Revenue grouping \n",
    "    PULocationID as revenue_zone,\n",
    "    date_trunc('month', pickup_datetime) as revenue_month, \n",
    "\n",
    "    service_type, \n",
    "\n",
    "    -- Revenue calculation \n",
    "    sum(fare_amount) as revenue_monthly_fare,\n",
    "    sum(extra) as revenue_monthly_extra,\n",
    "    sum(mta_tax) as revenue_monthly_mta_tax,\n",
    "    sum(tip_amount) as revenue_monthly_tip_amount,\n",
    "    sum(tolls_amount) as revenue_monthly_tolls_amount,\n",
    "    sum(improvement_surcharge) as revenue_monthly_improvement_surcharge,\n",
    "    sum(total_amount) as revenue_monthly_total_amount,\n",
    "\n",
    "    -- Additional calculations\n",
    "    \n",
    "    avg(passenger_count) as avg_monthly_passenger_count,\n",
    "    avg(trip_distance) as avg_monthly_trip_distance\n",
    "\n",
    "    FROM \n",
    "        trips_data\n",
    "    GROUP BY \n",
    "        revenue_zone, revenue_month, service_type\n",
    "\"\"\")"
   ]
  },
  {
   "cell_type": "code",
   "execution_count": 38,
   "id": "e2308779-baac-4de1-b37c-076b1dc5f58c",
   "metadata": {},
   "outputs": [
    {
     "name": "stderr",
     "output_type": "stream",
     "text": [
      "[Stage 15:=====================================================>  (19 + 1) / 20]"
     ]
    },
    {
     "name": "stdout",
     "output_type": "stream",
     "text": [
      "+------------+-------------------+------------+--------------------+---------------------+-----------------------+--------------------------+----------------------------+-------------------------------------+----------------------------+---------------------------+-------------------------+\n",
      "|revenue_zone|      revenue_month|service_type|revenue_monthly_fare|revenue_monthly_extra|revenue_monthly_mta_tax|revenue_monthly_tip_amount|revenue_monthly_tolls_amount|revenue_monthly_improvement_surcharge|revenue_monthly_total_amount|avg_monthly_passenger_count|avg_monthly_trip_distance|\n",
      "+------------+-------------------+------------+--------------------+---------------------+-----------------------+--------------------------+----------------------------+-------------------------------------+----------------------------+---------------------------+-------------------------+\n",
      "|         250|2020-02-01 00:00:00|       green|  15359.960000000037|               1282.5|                  117.5|                     56.01|           590.3200000000003|                   179.99999999999946|          17598.439999999977|         1.2394957983193278|        4.962810650887575|\n",
      "|         158|2020-02-01 00:00:00|       green|              124.36|                 8.25|                    0.5|                       0.0|                         2.8|                   0.8999999999999999|                      136.81|                       NULL|       11.090000000000002|\n",
      "|         152|2020-02-01 00:00:00|       green|  37630.820000000014|              1541.25|                 1398.5|         2836.659999999998|           538.3700000000003|                    903.8999999999917|           45984.59999999937|         1.2240055826936498|         2.72640336678537|\n",
      "|         243|2019-12-01 00:00:00|       green|               13.99|                  0.0|                    0.0|                       1.0|                         0.0|                                  0.3|                       15.29|                        1.0|                      0.0|\n",
      "|          20|2020-01-01 00:00:00|       green|            11375.42|                681.0|                  131.0|         90.61999999999999|           479.8600000000003|                   147.29999999999987|          12923.199999999997|         1.2297872340425533|        4.872311926605508|\n",
      "|          12|2020-01-01 00:00:00|       green|              161.01|                  5.5|                    1.0|                       0.0|                       12.24|                                  1.2|                      180.95|                       NULL|       0.7150000000000007|\n",
      "|         248|2019-12-01 00:00:00|       green|                10.0|                  0.5|                    0.5|                       0.0|                         0.0|                                  0.3|                        11.3|                        1.0|                      2.9|\n",
      "|         182|2020-02-01 00:00:00|       green|   19047.14000000003|               1493.0|                  183.5|        209.75999999999996|           676.0000000000005|                   267.00000000000165|          21901.749999999927|          1.275053304904051|        4.035101832993891|\n",
      "|          37|2020-02-01 00:00:00|       green|            23375.71|              1982.75|                  229.0|        428.95000000000005|           527.5100000000002|                   284.10000000000184|           26942.41999999996|         1.2318059299191375|        4.494921104536492|\n",
      "|          62|2020-02-01 00:00:00|       green|            20893.55|               1908.5|                  192.0|        212.16999999999996|          124.69000000000003|                   262.50000000000193|           23661.75999999997|         1.1245551601423487|       3.8925131440588823|\n",
      "|         202|2020-02-01 00:00:00|       green|  1339.7599999999998|               130.25|                    9.0|                      7.08|           82.30999999999999|                   15.600000000000005|                      1589.5|         1.0769230769230769|        5.690181818181819|\n",
      "|         192|2020-01-01 00:00:00|       green|   8618.379999999997|               395.25|                   63.5|         374.9299999999999|                       54.05|                     90.2999999999995|           9608.109999999991|         1.3060109289617485|         5.15945714285715|\n",
      "|         225|2020-01-01 00:00:00|       green|  54163.139999999854|               3779.0|                  573.0|         299.3199999999999|           786.1500000000005|                    662.0999999999909|           60424.11000000044|         1.1127596439169138|        4.172635719905584|\n",
      "|           7|2020-02-01 00:00:00|       green|  150332.03000000006|               7232.5|                 6804.0|        12193.109999999973|          1539.1999999999969|                    4271.700000000399|          185070.84000001164|         1.4657236126224156|        2.232184170471838|\n",
      "|          33|2020-01-01 00:00:00|       green|   155230.3799999992|              6140.75|                 4757.0|        18298.059999999903|                      660.71|                    3095.100000000416|          194160.69999998875|         1.2879223963330135|        3.408719483233577|\n",
      "|         217|2020-01-01 00:00:00|       green|   7338.409999999995|                423.5|                   98.5|         82.83000000000001|          137.88000000000002|                    91.19999999999949|           8200.170000000002|         1.1933333333333334|        4.819556213017753|\n",
      "|         161|2020-01-01 00:00:00|       green|  2278.8299999999995|                148.5|                    5.0|                       0.0|          183.66000000000005|                    21.60000000000003|          2637.5900000000006|                        1.0|        8.621388888888891|\n",
      "|          62|2020-01-01 00:00:00|       green|  26734.569999999996|               2084.0|                  273.5|        213.79000000000002|          237.89000000000007|                     336.300000000007|           29938.64999999978|         1.2145328719723183|         4.05235524256651|\n",
      "|         191|2020-01-01 00:00:00|       green|  24836.620000000083|              1235.25|                  144.0|         9.969999999999999|          411.53000000000026|                   218.40000000000256|          26858.519999999997|         1.2651162790697674|        8.111508951406641|\n",
      "|         159|2020-01-01 00:00:00|       green|  31086.470000000005|               1782.5|                  541.0|        283.15999999999997|          1169.1899999999982|                   482.70000000001255|           35435.21999999961|          1.176300578034682|        4.014747826086961|\n",
      "+------------+-------------------+------------+--------------------+---------------------+-----------------------+--------------------------+----------------------------+-------------------------------------+----------------------------+---------------------------+-------------------------+\n",
      "only showing top 20 rows\n",
      "\n"
     ]
    },
    {
     "name": "stderr",
     "output_type": "stream",
     "text": [
      "                                                                                "
     ]
    }
   ],
   "source": [
    "df_result.coalesce(1).write.parquet(\"data/report/revenue/\", mode=\"overwrite\")"
   ]
  },
  {
   "cell_type": "code",
   "execution_count": null,
   "id": "4707edfe-eb45-4a1a-8b9e-f0406b9f77d0",
   "metadata": {},
   "outputs": [],
   "source": []
  },
  {
   "cell_type": "code",
   "execution_count": null,
   "id": "5b943de5-d0d7-408e-b1e4-36e3c87ea5b1",
   "metadata": {},
   "outputs": [],
   "source": []
  },
  {
   "cell_type": "code",
   "execution_count": null,
   "id": "ced82840-384f-4af1-984e-b5ce9466e2da",
   "metadata": {},
   "outputs": [],
   "source": []
  },
  {
   "cell_type": "code",
   "execution_count": null,
   "id": "9008cf2d-a8c4-4ab6-8aa9-39ceaa621674",
   "metadata": {},
   "outputs": [],
   "source": []
  },
  {
   "cell_type": "code",
   "execution_count": null,
   "id": "8b41eff9-2099-4e2d-a81d-c4bebe9520a8",
   "metadata": {},
   "outputs": [],
   "source": []
  },
  {
   "cell_type": "code",
   "execution_count": null,
   "id": "8573c997-f2c3-4395-8bdd-be72159a53fc",
   "metadata": {},
   "outputs": [],
   "source": []
  },
  {
   "cell_type": "code",
   "execution_count": null,
   "id": "6923f321-c173-460f-88fa-c48810bc7238",
   "metadata": {},
   "outputs": [],
   "source": []
  },
  {
   "cell_type": "code",
   "execution_count": null,
   "id": "774791b6-d2a7-49ee-89f4-e9f51194d545",
   "metadata": {},
   "outputs": [],
   "source": []
  },
  {
   "cell_type": "code",
   "execution_count": null,
   "id": "958ac0de-7299-42e3-8d63-7ed9e3c65dfe",
   "metadata": {},
   "outputs": [],
   "source": []
  },
  {
   "cell_type": "code",
   "execution_count": null,
   "id": "287ea8f6-0e52-4c84-b0e3-cb549cc6e75c",
   "metadata": {},
   "outputs": [],
   "source": []
  },
  {
   "cell_type": "code",
   "execution_count": null,
   "id": "39b6f204-03be-479b-9a92-74fe328249ff",
   "metadata": {},
   "outputs": [],
   "source": []
  },
  {
   "cell_type": "code",
   "execution_count": null,
   "id": "75b0454b-dc42-42c9-9da5-2415e1c201b2",
   "metadata": {},
   "outputs": [],
   "source": []
  },
  {
   "cell_type": "code",
   "execution_count": null,
   "id": "485b8a82-a603-43da-ae87-233941dd6c33",
   "metadata": {},
   "outputs": [],
   "source": []
  },
  {
   "cell_type": "code",
   "execution_count": null,
   "id": "2e0a2686-66f5-4b4b-9e96-df52e3c8a79e",
   "metadata": {},
   "outputs": [],
   "source": []
  }
 ],
 "metadata": {
  "kernelspec": {
   "display_name": "Python 3 (ipykernel)",
   "language": "python",
   "name": "python3"
  },
  "language_info": {
   "codemirror_mode": {
    "name": "ipython",
    "version": 3
   },
   "file_extension": ".py",
   "mimetype": "text/x-python",
   "name": "python",
   "nbconvert_exporter": "python",
   "pygments_lexer": "ipython3",
   "version": "3.12.3"
  }
 },
 "nbformat": 4,
 "nbformat_minor": 5
}
