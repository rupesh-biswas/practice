{
 "cells": [
  {
   "cell_type": "code",
   "execution_count": 2,
   "id": "fba9e9ab-6307-4b04-b29a-9a0a26d07209",
   "metadata": {},
   "outputs": [
    {
     "name": "stderr",
     "output_type": "stream",
     "text": [
      "25/03/08 07:07:34 WARN Utils: Your hostname, SRCIND-21BQ9G3 resolves to a loopback address: 127.0.1.1; using 172.26.144.30 instead (on interface eth0)\n",
      "25/03/08 07:07:34 WARN Utils: Set SPARK_LOCAL_IP if you need to bind to another address\n",
      "Setting default log level to \"WARN\".\n",
      "To adjust logging level use sc.setLogLevel(newLevel). For SparkR, use setLogLevel(newLevel).\n",
      "25/03/08 07:07:35 WARN NativeCodeLoader: Unable to load native-hadoop library for your platform... using builtin-java classes where applicable\n",
      "25/03/08 07:07:37 WARN Utils: Service 'SparkUI' could not bind on port 4040. Attempting port 4041.\n"
     ]
    }
   ],
   "source": [
    "import pyspark\n",
    "from pyspark.sql import SparkSession\n",
    "\n",
    "spark = SparkSession.builder \\\n",
    "            .master(\"local[*]\") \\\n",
    "            .appName(\"test\") \\\n",
    "            .getOrCreate()"
   ]
  },
  {
   "cell_type": "code",
   "execution_count": 3,
   "id": "bdd5107e-9796-4b52-9da4-f03858ac4a29",
   "metadata": {},
   "outputs": [
    {
     "name": "stderr",
     "output_type": "stream",
     "text": [
      "                                                                                "
     ]
    }
   ],
   "source": [
    "df_green = spark.read.parquet(\"data/pq/green/*/*\")"
   ]
  },
  {
   "cell_type": "code",
   "execution_count": 4,
   "id": "a46ba937-6da3-4ea5-9e75-3af8ae16ce90",
   "metadata": {},
   "outputs": [
    {
     "name": "stderr",
     "output_type": "stream",
     "text": [
      "/root/spark/spark-3.5.5-bin-hadoop3/python/pyspark/sql/dataframe.py:329: FutureWarning: Deprecated in 2.0, use createOrReplaceTempView instead.\n",
      "  warnings.warn(\"Deprecated in 2.0, use createOrReplaceTempView instead.\", FutureWarning)\n"
     ]
    }
   ],
   "source": [
    "df_green.registerTempTable(\"green\")"
   ]
  },
  {
   "cell_type": "code",
   "execution_count": null,
   "id": "aeaafc97-8b8a-4888-acaf-debb4b5e5f0f",
   "metadata": {},
   "outputs": [],
   "source": []
  },
  {
   "cell_type": "code",
   "execution_count": 34,
   "id": "951e4b12-ec8a-4d25-b69d-0bac6279973b",
   "metadata": {},
   "outputs": [],
   "source": [
    "df_green_revenue = spark.sql(\"\"\"\n",
    "SELECT \n",
    "    date_trunc('hour', lpep_pickup_datetime) as hour, \n",
    "    PULocationID as zone,\n",
    "\n",
    "    sum(total_amount) as revenue_monthly_total_amount,\n",
    "    COUNT(1) as number_of_records\n",
    "    FROM \n",
    "        green\n",
    "    WHERE\n",
    "        lpep_pickup_datetime > '2020-01-01 00:00:00'\n",
    "    GROUP BY \n",
    "        1,2\n",
    "\"\"\")"
   ]
  },
  {
   "cell_type": "code",
   "execution_count": 35,
   "id": "25f241e6-e8d9-4a21-8723-337dcaa7e6e7",
   "metadata": {},
   "outputs": [
    {
     "name": "stderr",
     "output_type": "stream",
     "text": [
      "25/03/08 07:22:58 WARN MemoryManager: Total allocation exceeds 95.00% (1,020,054,720 bytes) of heap memory\n",
      "Scaling row group sizes to 95.00% for 8 writers\n",
      "                                                                                "
     ]
    }
   ],
   "source": [
    "df_green_revenue \\\n",
    "    .repartition(20) \\\n",
    "    .write.parquet(\"data/report/revenue/green\", mode=\"overwrite\")"
   ]
  },
  {
   "cell_type": "code",
   "execution_count": null,
   "id": "19471e96-8332-45fe-b73f-15d256323525",
   "metadata": {},
   "outputs": [],
   "source": []
  },
  {
   "cell_type": "code",
   "execution_count": 36,
   "id": "2c87ca82-e591-465e-a4b5-e9daa95662cc",
   "metadata": {},
   "outputs": [],
   "source": [
    "df_yellow = spark.read.parquet(\"data/pq/yellow/*/*\")"
   ]
  },
  {
   "cell_type": "code",
   "execution_count": 37,
   "id": "37d3539b-d623-436f-b78e-e0b218263021",
   "metadata": {},
   "outputs": [],
   "source": [
    "df_yellow.registerTempTable(\"yellow\")"
   ]
  },
  {
   "cell_type": "code",
   "execution_count": 38,
   "id": "5552d51a-8449-4f9a-921f-0220fc049cd0",
   "metadata": {},
   "outputs": [],
   "source": [
    "df_yellow_revenue = spark.sql(\"\"\"\n",
    "SELECT \n",
    "    date_trunc('hour', tpep_pickup_datetime) as hour, \n",
    "    PULocationID as zone,\n",
    "\n",
    "    sum(total_amount) as revenue_monthly_total_amount,\n",
    "    COUNT(1) as number_of_records\n",
    "    FROM \n",
    "        yellow\n",
    "    WHERE\n",
    "        tpep_pickup_datetime > '2020-01-01 00:00:00'\n",
    "    GROUP BY \n",
    "        1,2\n",
    "\"\"\")"
   ]
  },
  {
   "cell_type": "code",
   "execution_count": 39,
   "id": "0ba91e8d-d366-4763-9710-b56547340d11",
   "metadata": {},
   "outputs": [
    {
     "name": "stderr",
     "output_type": "stream",
     "text": [
      "25/03/08 07:23:09 WARN MemoryManager: Total allocation exceeds 95.00% (1,020,054,720 bytes) of heap memory\n",
      "Scaling row group sizes to 95.00% for 8 writers\n",
      "25/03/08 07:23:10 WARN MemoryManager: Total allocation exceeds 95.00% (1,020,054,720 bytes) of heap memory\n",
      "Scaling row group sizes to 95.00% for 8 writers\n",
      "                                                                                "
     ]
    }
   ],
   "source": [
    "df_yellow_revenue \\\n",
    "    .repartition(20) \\\n",
    "    .write.parquet(\"data/report/revenue/yellow\", mode=\"overwrite\")"
   ]
  },
  {
   "cell_type": "code",
   "execution_count": null,
   "id": "9e092077-c8bb-442c-b6e0-777a77c65586",
   "metadata": {},
   "outputs": [],
   "source": []
  },
  {
   "cell_type": "markdown",
   "id": "cd16a5e9-eead-497e-bb80-45c9563bf680",
   "metadata": {},
   "source": [
    "## Joins"
   ]
  },
  {
   "cell_type": "code",
   "execution_count": 47,
   "id": "48a5d203-de5a-41ae-8bd8-91ded3bfe217",
   "metadata": {},
   "outputs": [],
   "source": [
    "df_green_revenue = spark.read.parquet(\"data/report/revenue/green/\")\n",
    "df_yellow_revenue = spark.read.parquet(\"data/report/revenue/yellow/\")"
   ]
  },
  {
   "cell_type": "code",
   "execution_count": 48,
   "id": "39d6907c-f12b-463b-832b-b38ab901b448",
   "metadata": {},
   "outputs": [],
   "source": [
    "df_green_revenue_temp = df_green_revenue \\\n",
    "                            .withColumnRenamed('revenue_monthly_total_amount', 'green_amount') \\\n",
    "                            .withColumnRenamed('number_of_records', 'green_number_records') \n",
    "\n",
    "df_yellow_revenue_temp = df_yellow_revenue \\\n",
    "                            .withColumnRenamed('revenue_monthly_total_amount', 'yellow_amount') \\\n",
    "                            .withColumnRenamed('number_of_records', 'yellow_number_records') "
   ]
  },
  {
   "cell_type": "code",
   "execution_count": 49,
   "id": "aee4691e-84f0-4f5b-9f9a-fcdeaadb3fc2",
   "metadata": {},
   "outputs": [],
   "source": [
    "df_join = df_green_revenue_temp.join(df_yellow_revenue_temp, on=['hour', 'zone'], how='outer')"
   ]
  },
  {
   "cell_type": "code",
   "execution_count": 50,
   "id": "65dd54ef-5fca-42af-bb3d-f50e638c3ec1",
   "metadata": {},
   "outputs": [
    {
     "name": "stderr",
     "output_type": "stream",
     "text": [
      "25/03/08 07:29:27 WARN MemoryManager: Total allocation exceeds 95.00% (1,020,054,720 bytes) of heap memory\n",
      "Scaling row group sizes to 95.00% for 8 writers\n",
      "                                                                                "
     ]
    }
   ],
   "source": [
    "df_join.write.parquet('data/report/revenue/total', mode='overwrite')"
   ]
  },
  {
   "cell_type": "code",
   "execution_count": 51,
   "id": "31bf14f0-7aef-4de5-952e-01ee8e7e0dc5",
   "metadata": {},
   "outputs": [],
   "source": [
    "df_join = spark.read.parquet('data/report/revenue/total/')"
   ]
  },
  {
   "cell_type": "code",
   "execution_count": 54,
   "id": "659f16d7-4933-4f9b-9e8f-27c41ce0549e",
   "metadata": {},
   "outputs": [],
   "source": [
    "df_zones = spark.read.parquet('zones/')\n",
    "# df_zones.show()"
   ]
  },
  {
   "cell_type": "code",
   "execution_count": 59,
   "id": "4fd7984e-7803-494b-bd02-f641b857402e",
   "metadata": {},
   "outputs": [],
   "source": [
    "df_result = df_join.join(df_zones, df_join.zone == df_zones.LocationID)"
   ]
  },
  {
   "cell_type": "code",
   "execution_count": 64,
   "id": "c6f0ec76-c4a6-4c86-9658-6d3d944b84af",
   "metadata": {},
   "outputs": [
    {
     "name": "stderr",
     "output_type": "stream",
     "text": [
      "25/03/08 07:34:50 WARN MemoryManager: Total allocation exceeds 95.00% (1,020,054,720 bytes) of heap memory\n",
      "Scaling row group sizes to 95.00% for 8 writers\n",
      "                                                                                "
     ]
    }
   ],
   "source": [
    "df_result.drop('LocationID', 'zone').write.parquet('tmp/zones')"
   ]
  },
  {
   "cell_type": "code",
   "execution_count": null,
   "id": "beffb84a-4293-410d-a8b8-511dfbb64533",
   "metadata": {},
   "outputs": [],
   "source": []
  }
 ],
 "metadata": {
  "kernelspec": {
   "display_name": "Python 3 (ipykernel)",
   "language": "python",
   "name": "python3"
  },
  "language_info": {
   "codemirror_mode": {
    "name": "ipython",
    "version": 3
   },
   "file_extension": ".py",
   "mimetype": "text/x-python",
   "name": "python",
   "nbconvert_exporter": "python",
   "pygments_lexer": "ipython3",
   "version": "3.12.3"
  }
 },
 "nbformat": 4,
 "nbformat_minor": 5
}
